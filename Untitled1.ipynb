{
 "cells": [
  {
   "cell_type": "code",
   "execution_count": 1,
   "id": "ac07e7da",
   "metadata": {},
   "outputs": [],
   "source": [
    "import cv2\n",
    "color_image=cv2.imread('2.jpg',1)\n",
    "cv2.imshow('HELLO',color_image)\n",
    "cv2.waitKey(0)\n",
    "cv2.destroyAllWindows()"
   ]
  },
  {
   "cell_type": "code",
   "execution_count": 2,
   "id": "85591299",
   "metadata": {},
   "outputs": [],
   "source": [
    "import cv2\n",
    "a=cv2.imread('2.jpg',1)\n",
    "cv2.imwrite(\"20.jpg\",a)\n",
    "cv2.imshow(\"HAHA\",a)\n",
    "cv2.waitKey(0)\n",
    "cv2.destroyAllWindows()"
   ]
  },
  {
   "cell_type": "code",
   "execution_count": 3,
   "id": "1ad7c02b",
   "metadata": {},
   "outputs": [
    {
     "name": "stdout",
     "output_type": "stream",
     "text": [
      "(301, 439, 3)\n"
     ]
    }
   ],
   "source": [
    "import cv2\n",
    "a=cv2.imread('2.jpg',1)\n",
    "print(a.shape)"
   ]
  },
  {
   "cell_type": "code",
   "execution_count": 4,
   "id": "442074ca",
   "metadata": {},
   "outputs": [],
   "source": [
    "import random\n",
    "import cv2\n",
    "A=cv2.imread(\"2.jpg\",1)\n",
    "for i in range(100):\n",
    "    for j in range(A.shape[1]):\n",
    "        A[i][j]=[random.randint(0,255),random.randint(0,255),random.randint(0,255)]\n",
    "cv2.imshow(\"DIE\",A)\n",
    "cv2.waitKey(0)\n",
    "cv2.destroyAllWindows()"
   ]
  },
  {
   "cell_type": "code",
   "execution_count": 5,
   "id": "6b59ceeb",
   "metadata": {},
   "outputs": [],
   "source": [
    "import cv2\n",
    "A=cv2.imread(\"2.jpg\",1)\n",
    "tag=A[50:150,75:90]\n",
    "A[25:125,50:65]=tag\n",
    "cv2.imshow(\"DIE\",A)\n",
    "cv2.waitKey(0)\n",
    "cv2.destroyAllWindows()"
   ]
  },
  {
   "cell_type": "code",
   "execution_count": null,
   "id": "f0654e8b",
   "metadata": {},
   "outputs": [],
   "source": []
  }
 ],
 "metadata": {
  "kernelspec": {
   "display_name": "Python 3 (ipykernel)",
   "language": "python",
   "name": "python3"
  },
  "language_info": {
   "codemirror_mode": {
    "name": "ipython",
    "version": 3
   },
   "file_extension": ".py",
   "mimetype": "text/x-python",
   "name": "python",
   "nbconvert_exporter": "python",
   "pygments_lexer": "ipython3",
   "version": "3.9.7"
  }
 },
 "nbformat": 4,
 "nbformat_minor": 5
}
